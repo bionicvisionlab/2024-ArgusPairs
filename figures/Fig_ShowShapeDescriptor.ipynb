{
 "cells": [
  {
   "cell_type": "code",
   "execution_count": null,
   "id": "89384337-97d7-43da-837d-9ccd520696f1",
   "metadata": {},
   "outputs": [],
   "source": [
    "import math\n",
    "import matplotlib.pyplot as plt\n",
    "import numpy as np\n",
    "import pandas as pd\n",
    "\n",
    "import shapes\n",
    "\n",
    "from skimage.draw import ellipse\n",
    "from skimage.measure import label, regionprops, regionprops_table\n",
    "from skimage.transform import rotate\n",
    "from skimage import measure\n",
    "\n",
    "data = shapes.load_shapes(\"/home/yuchen/shapes/data/shapes.h5\", subjects=['12-005'],stim_class=None)\n",
    "temp = data[data.num_regions==2].reset_index(drop=True)\n",
    "plt.imshow(temp.image[25],cmap='gray')"
   ]
  },
  {
   "cell_type": "code",
   "execution_count": null,
   "id": "1a94d9da-def6-4e9f-a2c0-006d815fd7d6",
   "metadata": {},
   "outputs": [],
   "source": [
    "fig, ax = plt.subplots(figsize=(15,15))\n",
    "ax.imshow(image, cmap=plt.cm.gray)"
   ]
  },
  {
   "cell_type": "code",
   "execution_count": null,
   "id": "f9221bf7-3821-43eb-88fe-0e08efd753c5",
   "metadata": {},
   "outputs": [],
   "source": [
    "image = temp.image[25]\n",
    "\n",
    "label_img = label(image)\n",
    "regions = regionprops(label_img)\n",
    "fig, ax = plt.subplots(figsize=(15,15))\n",
    "ax.imshow(image, cmap=plt.cm.gray)\n",
    "\n",
    "for props in regions:\n",
    "    y0, x0 = props.centroid\n",
    "    orientation = props.orientation\n",
    "    x1 = x0 + math.cos(orientation) * 0.5 * props.minor_axis_length\n",
    "    y1 = y0 - math.sin(orientation) * 0.5 * props.minor_axis_length\n",
    "    x2 = x0 - math.sin(orientation) * 0.5 * props.major_axis_length\n",
    "    y2 = y0 - math.cos(orientation) * 0.5 * props.major_axis_length\n",
    "    \n",
    "    x3 = 30+x0\n",
    "\n",
    "    ax.plot((x0, x1), (y0, y1), '-r', linewidth=2.5)  # minor axis\n",
    "    ax.plot((x0, x2), (y0, y2), '-b', linewidth=2.5)  # major axis\n",
    "    ax.plot((x0, x3), (y0, y0), '--g', linewidth=2.5)  # major axis\n",
    "    ax.plot(x0, y0, '.g', markersize=15)\n",
    "        \n",
    "ax.axis()\n",
    "plt.show()"
   ]
  },
  {
   "cell_type": "code",
   "execution_count": null,
   "id": "14d1d2f1-cb3b-4a07-bfef-b250f35d752b",
   "metadata": {},
   "outputs": [],
   "source": [
    "fig, ax = plt.subplots(figsize=(15,15))\n",
    "contours = measure.find_contours(image, 0.8)\n",
    "ax.imshow(image, cmap=plt.cm.gray)\n",
    "\n",
    "for contour in contours:\n",
    "    ax.plot(contour[:, 1], contour[:, 0], linewidth=2,color='r')"
   ]
  },
  {
   "cell_type": "code",
   "execution_count": null,
   "id": "0d017d35-e167-4e23-bcb2-cb069d0c9bd6",
   "metadata": {},
   "outputs": [],
   "source": [
    "props = regionprops_table(label_img, properties=('centroid',\n",
    "                                                 'orientation',\n",
    "                                                 'major_axis_length',\n",
    "                                                 'minor_axis_length'))\n",
    "pd.DataFrame(props)"
   ]
  }
 ],
 "metadata": {
  "kernelspec": {
   "display_name": "Python 3 (ipykernel)",
   "language": "python",
   "name": "python3"
  },
  "language_info": {
   "codemirror_mode": {
    "name": "ipython",
    "version": 3
   },
   "file_extension": ".py",
   "mimetype": "text/x-python",
   "name": "python",
   "nbconvert_exporter": "python",
   "pygments_lexer": "ipython3",
   "version": "3.9.0"
  }
 },
 "nbformat": 4,
 "nbformat_minor": 5
}
